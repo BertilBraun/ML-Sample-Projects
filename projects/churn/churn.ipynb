{
 "cells": [
  {
   "cell_type": "code",
   "execution_count": 1,
   "metadata": {},
   "outputs": [],
   "source": [
    "import pandas as pd\n",
    "import numpy as np\n",
    "import matplotlib.pyplot as plt\n"
   ]
  },
  {
   "cell_type": "code",
   "execution_count": 2,
   "metadata": {},
   "outputs": [
    {
     "name": "stdout",
     "output_type": "stream",
     "text": [
      "<class 'pandas.core.frame.DataFrame'>\n",
      "RangeIndex: 7043 entries, 0 to 7042\n",
      "Data columns (total 21 columns):\n",
      " #   Column            Non-Null Count  Dtype  \n",
      "---  ------            --------------  -----  \n",
      " 0   customerID        7043 non-null   object \n",
      " 1   gender            7043 non-null   object \n",
      " 2   SeniorCitizen     7043 non-null   int64  \n",
      " 3   Partner           7043 non-null   object \n",
      " 4   Dependents        7043 non-null   object \n",
      " 5   tenure            7043 non-null   int64  \n",
      " 6   PhoneService      7043 non-null   object \n",
      " 7   MultipleLines     7043 non-null   object \n",
      " 8   InternetService   7043 non-null   object \n",
      " 9   OnlineSecurity    7043 non-null   object \n",
      " 10  OnlineBackup      7043 non-null   object \n",
      " 11  DeviceProtection  7043 non-null   object \n",
      " 12  TechSupport       7043 non-null   object \n",
      " 13  StreamingTV       7043 non-null   object \n",
      " 14  StreamingMovies   7043 non-null   object \n",
      " 15  Contract          7043 non-null   object \n",
      " 16  PaperlessBilling  7043 non-null   object \n",
      " 17  PaymentMethod     7043 non-null   object \n",
      " 18  MonthlyCharges    7043 non-null   float64\n",
      " 19  TotalCharges      7043 non-null   object \n",
      " 20  Churn             7043 non-null   object \n",
      "dtypes: float64(1), int64(2), object(18)\n",
      "memory usage: 1.1+ MB\n"
     ]
    }
   ],
   "source": [
    "data = pd.read_csv('data.csv', encoding=\"ISO-8859-1\")\n",
    "\n",
    "data.info()"
   ]
  },
  {
   "cell_type": "code",
   "execution_count": 3,
   "metadata": {},
   "outputs": [],
   "source": [
    "# Convert string columns to categorical\n",
    "from sklearn.calibration import LabelEncoder\n",
    "\n",
    "\n",
    "for column in data.columns:\n",
    "    if data[column].dtype == 'object':\n",
    "        data[column] = LabelEncoder().fit_transform(data[column])\n",
    "\n",
    "# drop the customerID column\n",
    "data = data.drop('customerID', axis=1)\n",
    "\n",
    "# drop where the TotalCharges column is empty\n",
    "data = data[data['TotalCharges'] != ' ']"
   ]
  },
  {
   "cell_type": "code",
   "execution_count": 4,
   "metadata": {},
   "outputs": [
    {
     "name": "stdout",
     "output_type": "stream",
     "text": [
      "gender: 2 unique values: [0 1]\n",
      "SeniorCitizen: 2 unique values: [0 1]\n",
      "Partner: 2 unique values: [1 0]\n",
      "Dependents: 2 unique values: [0 1]\n",
      "tenure: 73 unique values: [ 1 34  2 45  8 22 10 28 62 13 16 58 49 25 69 52 71 21 12 30 47 72 17 27\n",
      "  5 46 11 70 63 43 15 60 18 66  9  3 31 50 64 56  7 42 35 48 29 65 38 68\n",
      " 32 55 37 36 41  6  4 33 67 23 57 61 14 20 53 40 59 24 44 19 54 51 26  0\n",
      " 39]\n",
      "PhoneService: 2 unique values: [0 1]\n",
      "MultipleLines: 3 unique values: [1 0 2]\n",
      "InternetService: 3 unique values: [0 1 2]\n",
      "OnlineSecurity: 3 unique values: [0 2 1]\n",
      "OnlineBackup: 3 unique values: [2 0 1]\n",
      "DeviceProtection: 3 unique values: [0 2 1]\n",
      "TechSupport: 3 unique values: [0 2 1]\n",
      "StreamingTV: 3 unique values: [0 2 1]\n",
      "StreamingMovies: 3 unique values: [0 2 1]\n",
      "Contract: 3 unique values: [0 1 2]\n",
      "PaperlessBilling: 2 unique values: [1 0]\n",
      "PaymentMethod: 4 unique values: [2 3 0 1]\n",
      "MonthlyCharges: 1585 unique values: [29.85 56.95 53.85 ... 63.1  44.2  78.7 ]\n",
      "TotalCharges: 6531 unique values: [2505 1466  157 ... 2994 2660 5407]\n",
      "Churn: 2 unique values: [0 1]\n"
     ]
    }
   ],
   "source": [
    "# for each column print the number of unique values, and if less than 10, print the unique values\n",
    "for column in data.columns:\n",
    "    print(f'{column}: {data[column].nunique()} unique values: {data[column].unique()}')"
   ]
  },
  {
   "cell_type": "code",
   "execution_count": 5,
   "metadata": {},
   "outputs": [
    {
     "name": "stdout",
     "output_type": "stream",
     "text": [
      "0    5174\n",
      "1    1869\n",
      "Name: Churn, dtype: int64\n"
     ]
    }
   ],
   "source": [
    "# print number of Churn==Yes vs Churn==No\n",
    "print(data['Churn'].value_counts())"
   ]
  },
  {
   "cell_type": "code",
   "execution_count": null,
   "metadata": {},
   "outputs": [
    {
     "name": "stdout",
     "output_type": "stream",
     "text": [
      "0.7253371185237757\n"
     ]
    }
   ],
   "source": [
    "# Train a decision tree to predict Churn using all the data\n",
    "from sklearn import tree\n",
    "from sklearn.model_selection import train_test_split\n",
    "\n",
    "X = data.drop('Churn', axis=1)\n",
    "Y = data['Churn']\n",
    "\n",
    "X_train, X_test, Y_train, Y_test = train_test_split(X, Y, test_size=0.2)\n",
    "\n",
    "percentage_churn = Y_train.sum() / len(Y_train)\n",
    "sample_weight = np.where(Y_train == 1, 1/percentage_churn, 1/(1-percentage_churn))\n",
    "\n",
    "clf = tree.DecisionTreeClassifier(max_depth=14)\n",
    "clf = clf.fit(X_train, Y_train, sample_weight=sample_weight)\n",
    "\n",
    "# print the accuracy of the model\n",
    "print(clf.score(X_test, Y_test))"
   ]
  },
  {
   "cell_type": "code",
   "execution_count": 7,
   "metadata": {},
   "outputs": [
    {
     "name": "stdout",
     "output_type": "stream",
     "text": [
      "0.7984386089425124\n"
     ]
    }
   ],
   "source": [
    "from sklearn.ensemble import RandomForestClassifier\n",
    "\n",
    "\n",
    "clf = RandomForestClassifier(n_estimators=100)\n",
    "clf = clf.fit(X_train, Y_train, sample_weight=sample_weight)\n",
    "\n",
    "# print the accuracy of the model\n",
    "print(clf.score(X_test, Y_test))"
   ]
  },
  {
   "cell_type": "code",
   "execution_count": 8,
   "metadata": {},
   "outputs": [
    {
     "name": "stdout",
     "output_type": "stream",
     "text": [
      "1. feature tenure (0.170027)\n",
      "2. feature MonthlyCharges (0.164348)\n",
      "3. feature TotalCharges (0.151713)\n",
      "4. feature Contract (0.107689)\n",
      "5. feature TechSupport (0.061138)\n",
      "6. feature OnlineSecurity (0.055462)\n",
      "7. feature PaymentMethod (0.049465)\n",
      "8. feature OnlineBackup (0.025976)\n",
      "9. feature gender (0.025448)\n",
      "10. feature PaperlessBilling (0.024746)\n",
      "11. feature InternetService (0.023983)\n",
      "12. feature DeviceProtection (0.023436)\n",
      "13. feature MultipleLines (0.020572)\n",
      "14. feature Partner (0.020276)\n",
      "15. feature Dependents (0.018944)\n",
      "16. feature StreamingMovies (0.017625)\n",
      "17. feature SeniorCitizen (0.017447)\n",
      "18. feature StreamingTV (0.016254)\n",
      "19. feature PhoneService (0.005451)\n"
     ]
    }
   ],
   "source": [
    "# Find out the most important features in X_train\n",
    "importances = clf.feature_importances_\n",
    "indices = np.argsort(importances)[::-1]\n",
    "for f in range(X_train.shape[1]):\n",
    "    column_name = X_train.columns[indices[f]]\n",
    "    print(\"%d. feature %s (%f)\" % (f + 1, column_name, importances[indices[f]]))"
   ]
  },
  {
   "cell_type": "code",
   "execution_count": 9,
   "metadata": {},
   "outputs": [
    {
     "data": {
      "image/png": "[encoded data removed]",
      "text/plain": [
       "<Figure size 640x480 with 1 Axes>"
      ]
     },
     "metadata": {},
     "output_type": "display_data"
    }
   ],
   "source": [
    "# Plot the feature importances with the column names\n",
    "plt.figure()\n",
    "plt.title(\"Feature importances\")\n",
    "plt.bar(range(X_train.shape[1]), importances[indices], align=\"center\")\n",
    "plt.xticks(range(X_train.shape[1]), X_train.columns[indices], rotation=90)\n",
    "plt.xlim([-1, X_train.shape[1]])\n",
    "plt.show()"
   ]
  },
  {
   "cell_type": "code",
   "execution_count": 11,
   "metadata": {},
   "outputs": [
    {
     "name": "stdout",
     "output_type": "stream",
     "text": [
      "0.7672107877927609\n"
     ]
    }
   ],
   "source": [
    "# Train a decision tree to predict Churn using only the 5 most important features\n",
    "X_train_important = X_train[X_train.columns[indices[:5]]]\n",
    "X_test_important = X_test[X_test.columns[indices[:5]]]\n",
    "\n",
    "percentage_churn = Y_train.sum() / len(Y_train)\n",
    "sample_weight = np.where(Y_train == 1, 1/percentage_churn, 1/(1-percentage_churn))\n",
    "\n",
    "clf_important = RandomForestClassifier()\n",
    "clf_important = clf_important.fit(X_train_important, Y_train, sample_weight=sample_weight)\n",
    "\n",
    "# print the accuracy of the model\n",
    "print(clf_important.score(X_test_important, Y_test))"
   ]
  },
  {
   "cell_type": "code",
   "execution_count": 12,
   "metadata": {},
   "outputs": [
    {
     "name": "stdout",
     "output_type": "stream",
     "text": [
      "0.8055358410220014\n"
     ]
    }
   ],
   "source": [
    "from sklearn.linear_model import LogisticRegression\n",
    "from sklearn.discriminant_analysis import StandardScaler\n",
    "\n",
    "scalar = StandardScaler()\n",
    "scaled_X_train = scalar.fit_transform(X_train)\n",
    "scaled_X_test = scalar.transform(X_test)\n",
    "\n",
    "# Logistic Regression\n",
    "clf = LogisticRegression()\n",
    "clf = clf.fit(scaled_X_train, Y_train)\n",
    "\n",
    "# print the accuracy of the model\n",
    "print(clf.score(scaled_X_test, Y_test))"
   ]
  },
  {
   "cell_type": "code",
   "execution_count": 14,
   "metadata": {},
   "outputs": [
    {
     "name": "stdout",
     "output_type": "stream",
     "text": [
      "0.7892122072391767\n"
     ]
    }
   ],
   "source": [
    "# Logistic Regression with only the 5 most important features\n",
    "scalar = StandardScaler()\n",
    "scaled_X_train_important = scalar.fit_transform(X_train_important)\n",
    "scaled_X_test_important = scalar.transform(X_test_important)\n",
    "\n",
    "clf_important = LogisticRegression()\n",
    "clf_important = clf_important.fit(scaled_X_train_important, Y_train)\n",
    "\n",
    "print(clf_important.score(scaled_X_test_important, Y_test))"
   ]
  }
 ],
 "metadata": {
  "kernelspec": {
   "display_name": "Python 3",
   "language": "python",
   "name": "python3"
  },
  "language_info": {
   "codemirror_mode": {
    "name": "ipython",
    "version": 3
   },
   "file_extension": ".py",
   "mimetype": "text/x-python",
   "name": "python",
   "nbconvert_exporter": "python",
   "pygments_lexer": "ipython3",
   "version": "3.11.9"
  }
 },
 "nbformat": 4,
 "nbformat_minor": 2
}

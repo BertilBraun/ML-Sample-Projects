{
 "cells": [
  {
   "cell_type": "code",
   "execution_count": 1,
   "metadata": {},
   "outputs": [],
   "source": [
    "import pandas as pd\n",
    "import numpy as np\n",
    "import matplotlib.pyplot as plt\n"
   ]
  },
  {
   "cell_type": "code",
   "execution_count": 2,
   "metadata": {},
   "outputs": [
    {
     "name": "stdout",
     "output_type": "stream",
     "text": [
      "\n",
      "\n",
      "Head:\n",
      "      price  area  bedrooms  bathrooms  stories mainroad guestroom basement  \\\n",
      "0  13300000  7420         4          2        3      yes        no       no   \n",
      "1  12250000  8960         4          4        4      yes        no       no   \n",
      "2  12250000  9960         3          2        2      yes        no      yes   \n",
      "3  12215000  7500         4          2        2      yes        no      yes   \n",
      "4  11410000  7420         4          1        2      yes       yes      yes   \n",
      "\n",
      "  hotwaterheating airconditioning  parking prefarea furnishingstatus  \n",
      "0              no             yes        2      yes        furnished  \n",
      "1              no             yes        3       no        furnished  \n",
      "2              no              no        2      yes   semi-furnished  \n",
      "3              no             yes        3      yes        furnished  \n",
      "4              no             yes        2       no        furnished  \n",
      "\n",
      "\n",
      "Info:\n",
      "<class 'pandas.core.frame.DataFrame'>\n",
      "RangeIndex: 545 entries, 0 to 544\n",
      "Data columns (total 13 columns):\n",
      " #   Column            Non-Null Count  Dtype \n",
      "---  ------            --------------  ----- \n",
      " 0   price             545 non-null    int64 \n",
      " 1   area              545 non-null    int64 \n",
      " 2   bedrooms          545 non-null    int64 \n",
      " 3   bathrooms         545 non-null    int64 \n",
      " 4   stories           545 non-null    int64 \n",
      " 5   mainroad          545 non-null    object\n",
      " 6   guestroom         545 non-null    object\n",
      " 7   basement          545 non-null    object\n",
      " 8   hotwaterheating   545 non-null    object\n",
      " 9   airconditioning   545 non-null    object\n",
      " 10  parking           545 non-null    int64 \n",
      " 11  prefarea          545 non-null    object\n",
      " 12  furnishingstatus  545 non-null    object\n",
      "dtypes: int64(6), object(7)\n",
      "memory usage: 55.5+ KB\n",
      "None\n",
      "\n",
      "\n",
      "Describe:\n",
      "              price          area    bedrooms   bathrooms     stories  \\\n",
      "count  5.450000e+02    545.000000  545.000000  545.000000  545.000000   \n",
      "mean   4.766729e+06   5150.541284    2.965138    1.286239    1.805505   \n",
      "std    1.870440e+06   2170.141023    0.738064    0.502470    0.867492   \n",
      "min    1.750000e+06   1650.000000    1.000000    1.000000    1.000000   \n",
      "25%    3.430000e+06   3600.000000    2.000000    1.000000    1.000000   \n",
      "50%    4.340000e+06   4600.000000    3.000000    1.000000    2.000000   \n",
      "75%    5.740000e+06   6360.000000    3.000000    2.000000    2.000000   \n",
      "max    1.330000e+07  16200.000000    6.000000    4.000000    4.000000   \n",
      "\n",
      "          parking  \n",
      "count  545.000000  \n",
      "mean     0.693578  \n",
      "std      0.861586  \n",
      "min      0.000000  \n",
      "25%      0.000000  \n",
      "50%      0.000000  \n",
      "75%      1.000000  \n",
      "max      3.000000  \n",
      "\n",
      "\n",
      "Nulls:\n",
      "price               0\n",
      "area                0\n",
      "bedrooms            0\n",
      "bathrooms           0\n",
      "stories             0\n",
      "mainroad            0\n",
      "guestroom           0\n",
      "basement            0\n",
      "hotwaterheating     0\n",
      "airconditioning     0\n",
      "parking             0\n",
      "prefarea            0\n",
      "furnishingstatus    0\n",
      "dtype: int64\n"
     ]
    }
   ],
   "source": [
    "data = pd.read_csv('data.csv', encoding=\"ISO-8859-1\")\n",
    "\n",
    "print('\\n\\nHead:')\n",
    "print(data.head())\n",
    "print('\\n\\nInfo:')\n",
    "print(data.info())\n",
    "print('\\n\\nDescribe:')\n",
    "print(data.describe())\n",
    "print('\\n\\nNulls:')\n",
    "print(data.isnull().sum())"
   ]
  },
  {
   "cell_type": "code",
   "execution_count": 3,
   "metadata": {},
   "outputs": [],
   "source": [
    "# Convert string columns to categorical\n",
    "from sklearn.calibration import LabelEncoder\n",
    "\n",
    "\n",
    "for column in data.columns:\n",
    "    if data[column].dtype == 'object':\n",
    "        data[column] = LabelEncoder().fit_transform(data[column])\n"
   ]
  },
  {
   "cell_type": "code",
   "execution_count": 4,
   "metadata": {},
   "outputs": [
    {
     "name": "stdout",
     "output_type": "stream",
     "text": [
      "price: 219 unique values: [13300000 12250000 12215000 11410000 10850000 10150000  9870000  9800000\n",
      "  9681000  9310000  9240000  9100000  8960000  8890000  8855000  8750000\n",
      "  8680000  8645000  8575000  8540000  8463000  8400000  8295000  8190000\n",
      "  8120000  8080940  8043000  7980000  7962500  7910000  7875000  7840000\n",
      "  7700000  7560000  7525000  7490000  7455000  7420000  7350000  7343000\n",
      "  7245000  7210000  7140000  7070000  7035000  7000000  6930000  6895000\n",
      "  6860000  6790000  6755000  6720000  6685000  6650000  6629000  6615000\n",
      "  6580000  6510000  6475000  6440000  6419000  6405000  6300000  6293000\n",
      "  6265000  6230000  6195000  6160000  6125000  6107500  6090000  6083000\n",
      "  6020000  5950000  5943000  5880000  5873000  5866000  5810000  5803000\n",
      "  5775000  5740000  5652500  5600000  5565000  5530000  5523000  5495000\n",
      "  5460000  5425000  5390000  5383000  5320000  5285000  5250000  5243000\n",
      "  5229000  5215000  5145000  5110000  5075000  5040000  5033000  5005000\n",
      "  4970000  4956000  4935000  4907000  4900000  4893000  4865000  4830000\n",
      "  4795000  4767000  4760000  4753000  4690000  4655000  4620000  4613000\n",
      "  4585000  4550000  4543000  4515000  4480000  4473000  4445000  4410000\n",
      "  4403000  4382000  4375000  4340000  4319000  4305000  4277000  4270000\n",
      "  4235000  4200000  4193000  4165000  4130000  4123000  4098500  4095000\n",
      "  4060000  4025000  4007500  3990000  3920000  3885000  3850000  3836000\n",
      "  3815000  3780000  3773000  3745000  3710000  3703000  3675000  3640000\n",
      "  3633000  3605000  3570000  3535000  3500000  3493000  3465000  3430000\n",
      "  3423000  3395000  3360000  3353000  3332000  3325000  3290000  3255000\n",
      "  3234000  3220000  3150000  3143000  3129000  3118850  3115000  3087000\n",
      "  3080000  3045000  3010000  3003000  2975000  2961000  2940000  2870000\n",
      "  2852500  2835000  2800000  2730000  2695000  2660000  2653000  2604000\n",
      "  2590000  2520000  2485000  2450000  2408000  2380000  2345000  2310000\n",
      "  2275000  2240000  2233000  2135000  2100000  1960000  1890000  1855000\n",
      "  1820000  1767150  1750000]\n",
      "area: 284 unique values: [ 7420  8960  9960  7500  8580 16200  8100  5750 13200  6000  6550  3500\n",
      "  7800  6600  8500  4600  6420  4320  7155  8050  4560  8800  6540  8875\n",
      "  7950  5500  7475  7000  4880  5960  6840  7482  9000  6360  6480  4300\n",
      "  7440  6325  5150 11440  7680  8880  6240 11175  7700 12090  4000  5020\n",
      "  4040  4260  6500  5700 10500  3760  8250  6670  3960  7410  5000  6750\n",
      "  4800  7200  4100  6400  6350  4500  5450  3240  6615  8372  9620  6800\n",
      "  8000  6900  3700  7020  7231  6254  7320  6525 15600  7160 11460  5828\n",
      "  5200  5400  4640  5800  6660  4700  5136  4400  3300  3650  6100  2817\n",
      "  7980  3150  6210  6825  6710  6450 10269  8400  5300  3800  9800  8520\n",
      "  6050  7085  3180  3410  3000 11410  5720  3540  7600 10700  8150  4410\n",
      "  7686  2800  5948  4200  4520  4095  4120  4770  6300  2970  6720  4646\n",
      " 12900  3420  4995  4350  4160  6040  6862  4815  9166  6321 10240  6440\n",
      "  5170  3630  9667  3745  3880  5680  2870  5010  4510  3840  3640  2550\n",
      "  5320  5360  3520  4990  3510  3450  9860  5885  3162  3750  3968  4900\n",
      "  2880  4920  4950  3900  1905  4075  4032 10360  3400  2175  4360  7770\n",
      "  6650  2787  5040  5850  2610  2953  2747  2325  4079  2145  4840  4080\n",
      "  4046  4632  5985  6060  3600  3680  5600  5900  4992  4340  3460  4050\n",
      "  7260  3290  3816  8080  3780  7152  3850  2015  2176  3350  4820  5830\n",
      "  2856  2520  6930  3480  6020  3584  3120  5640  4280  3570  4130  2850\n",
      "  2275  4240  2135  3036  3990  7424  7350  3512  9500  5880 12944  3060\n",
      "  3185  1950  4785  4960  4750  3720  3100  2700  4775  2500  3792  3930\n",
      "  4370  2684  3986  1650  3069  5495  2398  2160  3090  2835  5076  4352\n",
      "  3660  3040  2640  2650  3934  2000  2430  2910  3210  3635  2475  3264\n",
      "  1836  3970  2400  3360  1700  3649  2990  3620]\n",
      "bedrooms: 6 unique values: [4 3 5 2 6 1]\n",
      "bathrooms: 4 unique values: [2 4 1 3]\n",
      "stories: 4 unique values: [3 4 2 1]\n",
      "mainroad: 2 unique values: [1 0]\n",
      "guestroom: 2 unique values: [0 1]\n",
      "basement: 2 unique values: [0 1]\n",
      "hotwaterheating: 2 unique values: [0 1]\n",
      "airconditioning: 2 unique values: [1 0]\n",
      "parking: 4 unique values: [2 3 0 1]\n",
      "prefarea: 2 unique values: [1 0]\n",
      "furnishingstatus: 3 unique values: [0 1 2]\n"
     ]
    }
   ],
   "source": [
    "# for each column print the number of unique values, and if less than 10, print the unique values\n",
    "for column in data.columns:\n",
    "    print(f'{column}: {data[column].nunique()} unique values: {data[column].unique()}')"
   ]
  },
  {
   "cell_type": "code",
   "execution_count": 5,
   "metadata": {},
   "outputs": [],
   "source": [
    "from sklearn.model_selection import train_test_split\n",
    "from sklearn.preprocessing import StandardScaler\n",
    "\n",
    "X = data.drop('price', axis=1)\n",
    "Y = data['price']\n",
    "\n",
    "X_train, X_test, Y_train, Y_test = train_test_split(X, Y, test_size=0.2)\n",
    "\n",
    "scaler = StandardScaler()\n",
    "scaled_X_train = scaler.fit_transform(X_train)\n",
    "scaled_X_test = scaler.transform(X_test)"
   ]
  },
  {
   "cell_type": "code",
   "execution_count": 6,
   "metadata": {},
   "outputs": [
    {
     "name": "stdout",
     "output_type": "stream",
     "text": [
      "Mean absolute error: 769434.8480935177\n"
     ]
    }
   ],
   "source": [
    "# Linear Regression\n",
    "from sklearn.linear_model import LinearRegression\n",
    "from sklearn.metrics import mean_absolute_error\n",
    "\n",
    "model = LinearRegression()\n",
    "model.fit(scaled_X_train, Y_train)\n",
    "\n",
    "Y_pred = model.predict(scaled_X_test)\n",
    "print(f'Mean absolute error: {mean_absolute_error(Y_test, Y_pred)}')"
   ]
  },
  {
   "cell_type": "code",
   "execution_count": 7,
   "metadata": {},
   "outputs": [
    {
     "name": "stdout",
     "output_type": "stream",
     "text": [
      "Mean absolute error: 794171.3639143731\n"
     ]
    }
   ],
   "source": [
    "# Random Forest\n",
    "from sklearn.ensemble import RandomForestRegressor\n",
    "\n",
    "model = RandomForestRegressor()\n",
    "model.fit(X_train, Y_train)\n",
    "\n",
    "Y_pred = model.predict(X_test)\n",
    "print(f'Mean absolute error: {mean_absolute_error(Y_test, Y_pred)}')"
   ]
  },
  {
   "cell_type": "code",
   "execution_count": 8,
   "metadata": {},
   "outputs": [
    {
     "name": "stdout",
     "output_type": "stream",
     "text": [
      "Mean absolute error: 1024884.7706422019\n"
     ]
    }
   ],
   "source": [
    "# Decision Tree\n",
    "from sklearn.tree import DecisionTreeRegressor\n",
    "\n",
    "model = DecisionTreeRegressor()\n",
    "model.fit(X_train, Y_train)\n",
    "\n",
    "Y_pred = model.predict(X_test)\n",
    "print(f'Mean absolute error: {mean_absolute_error(Y_test, Y_pred)}')"
   ]
  },
  {
   "cell_type": "code",
   "execution_count": 9,
   "metadata": {},
   "outputs": [
    {
     "name": "stdout",
     "output_type": "stream",
     "text": [
      "1. feature area (0.445357)\n",
      "2. feature bathrooms (0.181975)\n",
      "3. feature airconditioning (0.060426)\n",
      "4. feature stories (0.052304)\n",
      "5. feature furnishingstatus (0.049842)\n",
      "6. feature bedrooms (0.045901)\n",
      "7. feature prefarea (0.043759)\n",
      "8. feature parking (0.042677)\n",
      "9. feature basement (0.030903)\n",
      "10. feature hotwaterheating (0.022612)\n",
      "11. feature guestroom (0.020628)\n",
      "12. feature mainroad (0.003616)\n"
     ]
    }
   ],
   "source": [
    "# Find out the most important features in X_train\n",
    "importances = model.feature_importances_\n",
    "indices = np.argsort(importances)[::-1]\n",
    "for f in range(X_train.shape[1]):\n",
    "    column_name = X_train.columns[indices[f]]\n",
    "    print(\"%d. feature %s (%f)\" % (f + 1, column_name, importances[indices[f]]))"
   ]
  },
  {
   "cell_type": "code",
   "execution_count": 10,
   "metadata": {},
   "outputs": [
    {
     "data": {
      "image/png": "[encoded data removed]",
      "text/plain": [
       "<Figure size 640x480 with 1 Axes>"
      ]
     },
     "metadata": {},
     "output_type": "display_data"
    }
   ],
   "source": [
    "# Plot the feature importances with the column names\n",
    "plt.figure()\n",
    "plt.title(\"Feature importances\")\n",
    "plt.bar(range(X_train.shape[1]), importances[indices], align=\"center\")\n",
    "plt.xticks(range(X_train.shape[1]), X_train.columns[indices], rotation=90)\n",
    "plt.xlim([-1, X_train.shape[1]])\n",
    "plt.show()"
   ]
  },
  {
   "cell_type": "code",
   "execution_count": 11,
   "metadata": {},
   "outputs": [
    {
     "name": "stdout",
     "output_type": "stream",
     "text": [
      "Mean absolute error: 1274538.3180428133\n"
     ]
    }
   ],
   "source": [
    "# Train a decision tree to predict Churn using only the 3 most important features\n",
    "X_train_important = X_train[X_train.columns[indices[:3]]]\n",
    "X_test_important = X_test[X_test.columns[indices[:3]]]\n",
    "\n",
    "model_important = DecisionTreeRegressor()\n",
    "model_important.fit(X_train_important, Y_train)\n",
    "\n",
    "Y_pred = model_important.predict(X_test_important)\n",
    "print(f'Mean absolute error: {mean_absolute_error(Y_test, Y_pred)}')"
   ]
  }
 ],
 "metadata": {
  "kernelspec": {
   "display_name": "Python 3",
   "language": "python",
   "name": "python3"
  },
  "language_info": {
   "codemirror_mode": {
    "name": "ipython",
    "version": 3
   },
   "file_extension": ".py",
   "mimetype": "text/x-python",
   "name": "python",
   "nbconvert_exporter": "python",
   "pygments_lexer": "ipython3",
   "version": "3.11.9"
  }
 },
 "nbformat": 4,
 "nbformat_minor": 2
}
